{
 "cells": [
  {
   "cell_type": "markdown",
   "id": "77144b40-efbe-427c-aee8-5bd319c19b53",
   "metadata": {},
   "source": [
    "# Importing the Libraries"
   ]
  },
  {
   "cell_type": "code",
   "execution_count": 4,
   "id": "30866fbd-f54e-4649-8d8f-4da146009f55",
   "metadata": {},
   "outputs": [],
   "source": [
    "import transformers\n",
    "from transformers import AutoTokenizer, AutoModelForSeq2SeqLM\n",
    "from datasets import load_dataset\n",
    "from peft import LoraConfig,get_peft_model\n",
    "from transformers import TrainingArguments, Trainer\n",
    "from transformers import DataCollatorWithPadding\n",
    "from transformers import TrainerCallback\n"
   ]
  },
  {
   "cell_type": "markdown",
   "id": "fa959c4f-df09-4b96-a5bb-cafb7b312495",
   "metadata": {},
   "source": [
    "# Loading the model and tokenizer"
   ]
  },
  {
   "cell_type": "code",
   "execution_count": 5,
   "id": "dee9d89d-ead1-4f89-95f8-c9e5545fffc5",
   "metadata": {},
   "outputs": [],
   "source": [
    "tokenizer = AutoTokenizer.from_pretrained(\"google/flan-t5-base\")\n",
    "model = AutoModelForSeq2SeqLM.from_pretrained(\"google/flan-t5-base\")"
   ]
  },
  {
   "cell_type": "markdown",
   "id": "9a18e9fb-6267-4fe2-9548-865236b70555",
   "metadata": {},
   "source": [
    "# Before Fine-Tuning result"
   ]
  },
  {
   "cell_type": "code",
   "execution_count": 7,
   "id": "ec832316-83f7-44e7-a8d2-7e2789852e6c",
   "metadata": {},
   "outputs": [
    {
     "name": "stdout",
     "output_type": "stream",
     "text": [
      "I have a meeting scheduled for Friday, October 29th at 2:00 p.m. at the Houston Center for the Performing Arts. I will be able to attend. I will be able to provide you with a copy of the agenda and a copy of the presentation. I will also be able to provide you with a copy of the presentation. I will be able to provide you with a copy of the presentation. I will be able to provide you with a copy of the presentation. I will be able to provide you with a copy of the presentation. I will be able to provide you with a copy of the presentation. I will be able to provide you with a copy of the presentation. I will be able to provide you with a copy of the presentation. I will be able to provide you with a copy of the presentation. I will be able to provide you with a copy of the presentation. I will be able to provide you with a copy of the presentation. I will be able to provide you with a copy of the presentation. I will be able to provide you with a copy of the presentation. I will be able to provide you with a copy of the presentation. I will be able to provide you with a copy of the presentation. I will be able to provide you with a copy of the presentation. I will be able to provide you with a copy of the presentation. I will be able to provide you with a copy of the presentation. I will be able to provide you with a copy of the presentation. I will be able to provide you with a copy of the presentation. I will be able to provide you with a copy of the presentation. I will be able to provide you with a copy of the presentation. I will be able to provide you with a copy of the presentation. I will be able to provide you with a copy of the presentation. I will be able to provide you with a copy of the presentation. I will be able to provide you with a copy of the presentation. I will be able to provide you with a copy of the presentation. I will be able to provide you with a copy of the presentation. I will be able to provide you with a copy of the presentation. I\n"
     ]
    }
   ],
   "source": [
    "input_text = \"Write an email to my manager requesting a Performance Review Meeting\"\n",
    "input_ids = tokenizer(input_text, return_tensors=\"pt\").input_ids\n",
    "\n",
    "outputs = model.generate(input_ids,max_length=512)\n",
    "print(tokenizer.decode(outputs[0],skip_special_tokens=True))"
   ]
  },
  {
   "cell_type": "code",
   "execution_count": 8,
   "id": "0921c32b-b25b-4f4e-8917-14918b935112",
   "metadata": {},
   "outputs": [],
   "source": [
    "#We can clearly see that the model is repetitive and not able to udnerstand the instruction provided clearly"
   ]
  },
  {
   "cell_type": "markdown",
   "id": "c8729deb-7794-4eff-b1a3-55eed9e0473d",
   "metadata": {},
   "source": [
    "# Loading the Dataset"
   ]
  },
  {
   "cell_type": "code",
   "execution_count": 9,
   "id": "4f05db51-99a4-4ae3-a97d-bcbdfeea56c5",
   "metadata": {},
   "outputs": [],
   "source": [
    "dataset_train = load_dataset('csv', data_files='emails.csv',split='train')\n",
    "dataset_test=load_dataset('csv', data_files='emails_test.csv',split='train')"
   ]
  },
  {
   "cell_type": "code",
   "execution_count": 10,
   "id": "b98f8aa2-bc7d-4eae-be52-06908902f591",
   "metadata": {},
   "outputs": [
    {
     "data": {
      "text/plain": [
       "Dataset({\n",
       "    features: ['Instruction', 'Response'],\n",
       "    num_rows: 217\n",
       "})"
      ]
     },
     "execution_count": 10,
     "metadata": {},
     "output_type": "execute_result"
    }
   ],
   "source": [
    "dataset_train"
   ]
  },
  {
   "cell_type": "code",
   "execution_count": 11,
   "id": "02b4e8ca-d853-4238-a609-9cefbeef814d",
   "metadata": {},
   "outputs": [
    {
     "data": {
      "text/plain": [
       "Dataset({\n",
       "    features: ['Instruction', 'Response'],\n",
       "    num_rows: 10\n",
       "})"
      ]
     },
     "execution_count": 11,
     "metadata": {},
     "output_type": "execute_result"
    }
   ],
   "source": [
    "dataset_test"
   ]
  },
  {
   "cell_type": "code",
   "execution_count": 12,
   "id": "5c614640-b97b-41e9-ae80-3d9ab670b5e8",
   "metadata": {},
   "outputs": [],
   "source": [
    "dataset_train= dataset_train.shuffle()"
   ]
  },
  {
   "cell_type": "code",
   "execution_count": 13,
   "id": "f0982bc8-57db-4070-92bc-3d2294c7ee00",
   "metadata": {},
   "outputs": [],
   "source": [
    "dataset_test= dataset_test.shuffle()"
   ]
  },
  {
   "cell_type": "markdown",
   "id": "b3faf338-1e32-466f-a59a-69975095096d",
   "metadata": {},
   "source": [
    "# Tokenizing the Dataset"
   ]
  },
  {
   "cell_type": "code",
   "execution_count": 14,
   "id": "80b2ea02-1c66-4e7f-b4f6-adfb503be0cc",
   "metadata": {},
   "outputs": [],
   "source": [
    "def tokenize_function(email):\n",
    "    instruction_tokenized = tokenizer(email['Instruction'], truncation=True, padding='max_length', max_length=512)\n",
    "    response_tokenized = tokenizer(email['Response'], truncation=True, padding='max_length', max_length=512)\n",
    "\n",
    "    tokenized_email = {\n",
    "        'input_ids': instruction_tokenized['input_ids'],\n",
    "        'attention_mask': instruction_tokenized['attention_mask'],\n",
    "        'labels': response_tokenized['input_ids']\n",
    "    }\n",
    "    \n",
    "    return tokenized_email\n"
   ]
  },
  {
   "cell_type": "code",
   "execution_count": 15,
   "id": "e1980dae-fe7b-499e-9967-6239c26a6794",
   "metadata": {},
   "outputs": [
    {
     "data": {
      "application/vnd.jupyter.widget-view+json": {
       "model_id": "ab7479c4fb2f4c1e828b6f767acad670",
       "version_major": 2,
       "version_minor": 0
      },
      "text/plain": [
       "Map:   0%|          | 0/217 [00:00<?, ? examples/s]"
      ]
     },
     "metadata": {},
     "output_type": "display_data"
    },
    {
     "data": {
      "application/vnd.jupyter.widget-view+json": {
       "model_id": "2051e7d43de84dda868837e31a14f34e",
       "version_major": 2,
       "version_minor": 0
      },
      "text/plain": [
       "Map:   0%|          | 0/10 [00:00<?, ? examples/s]"
      ]
     },
     "metadata": {},
     "output_type": "display_data"
    }
   ],
   "source": [
    "tokenized_dataset_train=dataset_train.map(tokenize_function,batched=True)\n",
    "tokenized_dataset_test=dataset_test.map(tokenize_function,batched=True)"
   ]
  },
  {
   "cell_type": "markdown",
   "id": "a3d798fa-abb6-4eba-86ad-913438cd3386",
   "metadata": {},
   "source": [
    "# Setting up the LoRA Configuration"
   ]
  },
  {
   "cell_type": "code",
   "execution_count": 16,
   "id": "d60d8570-f3ed-4635-918e-00b39a490b1e",
   "metadata": {},
   "outputs": [],
   "source": [
    "peft_config=LoraConfig(task_type=\"CAUSAL_LM\",\n",
    "                       r=32,\n",
    "                       lora_alpha=64,\n",
    "                       lora_dropout=0.05,\n",
    "                       bias='none'\n",
    "\n",
    ")\n",
    "                       "
   ]
  },
  {
   "cell_type": "code",
   "execution_count": 17,
   "id": "b64d0e4f-7057-4499-9827-8225e62dbbd9",
   "metadata": {},
   "outputs": [],
   "source": [
    "model=get_peft_model(model,peft_config)"
   ]
  },
  {
   "cell_type": "code",
   "execution_count": 18,
   "id": "56d91b7c-781e-44e5-a2ae-e43f57a93a64",
   "metadata": {},
   "outputs": [
    {
     "name": "stdout",
     "output_type": "stream",
     "text": [
      "trainable params: 3,538,944 || all params: 251,116,800 || trainable%: 1.4093\n"
     ]
    }
   ],
   "source": [
    "model.print_trainable_parameters()"
   ]
  },
  {
   "cell_type": "markdown",
   "id": "6e53bc8b-8060-427b-8456-de8160d550eb",
   "metadata": {},
   "source": [
    "# Setting up the Training Arguments"
   ]
  },
  {
   "cell_type": "code",
   "execution_count": 21,
   "id": "a4e60443-e573-4d1d-9725-1ab258ddfc30",
   "metadata": {},
   "outputs": [],
   "source": [
    "lr=1e-3\n",
    "batch_size=1\n",
    "num_pochs=5\n",
    "training_args=TrainingArguments(\n",
    "    output_dir=\"./chatbot\",\n",
    "    learning_rate=lr,\n",
    "    per_device_train_batch_size=batch_size,\n",
    "    per_device_eval_batch_size=batch_size,\n",
    "    num_train_epochs=num_pochs,\n",
    "    weight_decay=0.01,\n",
    "    evaluation_strategy='epoch',\n",
    "    save_strategy='epoch',\n",
    "    logging_strategy='epoch',\n",
    "    load_best_model_at_end=True,\n",
    "    metric_for_best_model=\"eval_loss\",\n",
    "    logging_steps=1,\n",
    ")\n",
    "\n",
    "    "
   ]
  },
  {
   "cell_type": "markdown",
   "id": "9351bbf9-99ba-403a-9be2-4e4e67939757",
   "metadata": {},
   "source": [
    "# Training"
   ]
  },
  {
   "cell_type": "code",
   "execution_count": 22,
   "id": "7d884118-450e-4ebd-87bf-12801d1b16ab",
   "metadata": {
    "scrolled": true
   },
   "outputs": [
    {
     "data": {
      "text/html": [
       "\n",
       "    <div>\n",
       "      \n",
       "      <progress value='1085' max='1085' style='width:300px; height:20px; vertical-align: middle;'></progress>\n",
       "      [1085/1085 10:51, Epoch 5/5]\n",
       "    </div>\n",
       "    <table border=\"1\" class=\"dataframe\">\n",
       "  <thead>\n",
       " <tr style=\"text-align: left;\">\n",
       "      <th>Epoch</th>\n",
       "      <th>Training Loss</th>\n",
       "      <th>Validation Loss</th>\n",
       "    </tr>\n",
       "  </thead>\n",
       "  <tbody>\n",
       "    <tr>\n",
       "      <td>1</td>\n",
       "      <td>2.306200</td>\n",
       "      <td>0.272967</td>\n",
       "    </tr>\n",
       "    <tr>\n",
       "      <td>2</td>\n",
       "      <td>0.237200</td>\n",
       "      <td>0.228347</td>\n",
       "    </tr>\n",
       "    <tr>\n",
       "      <td>3</td>\n",
       "      <td>0.184500</td>\n",
       "      <td>0.199863</td>\n",
       "    </tr>\n",
       "    <tr>\n",
       "      <td>4</td>\n",
       "      <td>0.162600</td>\n",
       "      <td>0.188123</td>\n",
       "    </tr>\n",
       "    <tr>\n",
       "      <td>5</td>\n",
       "      <td>0.147400</td>\n",
       "      <td>0.183418</td>\n",
       "    </tr>\n",
       "  </tbody>\n",
       "</table><p>"
      ],
      "text/plain": [
       "<IPython.core.display.HTML object>"
      ]
     },
     "metadata": {},
     "output_type": "display_data"
    },
    {
     "name": "stderr",
     "output_type": "stream",
     "text": [
      "/home/uf9b4a1df412c02fc2f5ea1a9d7ab42a/.local/lib/python3.9/site-packages/huggingface_hub/file_download.py:1132: FutureWarning: `resume_download` is deprecated and will be removed in version 1.0.0. Downloads always resume when possible. If you want to force a new download, use `force_download=True`.\n",
      "  warnings.warn(\n",
      "/home/uf9b4a1df412c02fc2f5ea1a9d7ab42a/.local/lib/python3.9/site-packages/huggingface_hub/file_download.py:1132: FutureWarning: `resume_download` is deprecated and will be removed in version 1.0.0. Downloads always resume when possible. If you want to force a new download, use `force_download=True`.\n",
      "  warnings.warn(\n",
      "/home/uf9b4a1df412c02fc2f5ea1a9d7ab42a/.local/lib/python3.9/site-packages/huggingface_hub/file_download.py:1132: FutureWarning: `resume_download` is deprecated and will be removed in version 1.0.0. Downloads always resume when possible. If you want to force a new download, use `force_download=True`.\n",
      "  warnings.warn(\n",
      "/home/uf9b4a1df412c02fc2f5ea1a9d7ab42a/.local/lib/python3.9/site-packages/huggingface_hub/file_download.py:1132: FutureWarning: `resume_download` is deprecated and will be removed in version 1.0.0. Downloads always resume when possible. If you want to force a new download, use `force_download=True`.\n",
      "  warnings.warn(\n",
      "/home/uf9b4a1df412c02fc2f5ea1a9d7ab42a/.local/lib/python3.9/site-packages/huggingface_hub/file_download.py:1132: FutureWarning: `resume_download` is deprecated and will be removed in version 1.0.0. Downloads always resume when possible. If you want to force a new download, use `force_download=True`.\n",
      "  warnings.warn(\n"
     ]
    },
    {
     "data": {
      "text/plain": [
       "TrainOutput(global_step=1085, training_loss=0.6075741376744986, metrics={'train_runtime': 653.0356, 'train_samples_per_second': 1.661, 'train_steps_per_second': 1.661, 'total_flos': 754757452431360.0, 'train_loss': 0.6075741376744986, 'epoch': 5.0})"
      ]
     },
     "execution_count": 22,
     "metadata": {},
     "output_type": "execute_result"
    }
   ],
   "source": [
    "data_collator=DataCollatorWithPadding(tokenizer=tokenizer)\n",
    "trainer=Trainer(\n",
    "    model=model,\n",
    "    args=training_args,\n",
    "    train_dataset=tokenized_dataset_train,\n",
    "    eval_dataset=tokenized_dataset_test,\n",
    "    tokenizer=tokenizer,\n",
    "    data_collator=data_collator,\n",
    "    )\n",
    "\n",
    "\n",
    "trainer.train()\n",
    "    \n",
    "    "
   ]
  },
  {
   "cell_type": "code",
   "execution_count": 23,
   "id": "a3634346-79ff-44da-9e05-c882ad3600ef",
   "metadata": {},
   "outputs": [
    {
     "name": "stderr",
     "output_type": "stream",
     "text": [
      "/home/uf9b4a1df412c02fc2f5ea1a9d7ab42a/.local/lib/python3.9/site-packages/huggingface_hub/file_download.py:1132: FutureWarning: `resume_download` is deprecated and will be removed in version 1.0.0. Downloads always resume when possible. If you want to force a new download, use `force_download=True`.\n",
      "  warnings.warn(\n"
     ]
    }
   ],
   "source": [
    "trainer.save_model(\"finetuned_chatbot\")"
   ]
  },
  {
   "cell_type": "code",
   "execution_count": 24,
   "id": "09b17315-0db8-4fad-90e7-fc55eb1cc4d6",
   "metadata": {},
   "outputs": [],
   "source": [
    "fine_model = AutoModelForSeq2SeqLM.from_pretrained(\"finetuned_chatbot\")"
   ]
  },
  {
   "cell_type": "code",
   "execution_count": 27,
   "id": "2c20cb8d-f787-4f0d-aec8-f7a840293ac4",
   "metadata": {},
   "outputs": [
    {
     "name": "stdout",
     "output_type": "stream",
     "text": [
      "Subject: Performance Evaluation Discussion Request Dear [Manager's Name], I hope you are well. I am writing to request a discussion on my performance evaluation. I am currently working on my performance and I am looking forward to discussing my performance. Please let me know a suitable time for this discussion. Best regards, [Your Name]\n"
     ]
    }
   ],
   "source": [
    "input_text = \"Write an email to my for Performance Evaluation Discussion Request\"\n",
    "input_ids = tokenizer(input_text, return_tensors=\"pt\").input_ids\n",
    "\n",
    "outputs = fine_model.generate(input_ids,max_length=512)\n",
    "print(tokenizer.decode(outputs[0],skip_special_tokens=True))\n"
   ]
  },
  {
   "cell_type": "code",
   "execution_count": null,
   "id": "24aca9d0-f99c-4372-a480-124f61035afd",
   "metadata": {},
   "outputs": [],
   "source": []
  },
  {
   "cell_type": "code",
   "execution_count": null,
   "id": "92c0076f-af37-40e7-95ff-2605ffaefaf4",
   "metadata": {},
   "outputs": [],
   "source": []
  }
 ],
 "metadata": {
  "kernelspec": {
   "display_name": "Pytorch",
   "language": "python",
   "name": "pytorch"
  },
  "language_info": {
   "codemirror_mode": {
    "name": "ipython",
    "version": 3
   },
   "file_extension": ".py",
   "mimetype": "text/x-python",
   "name": "python",
   "nbconvert_exporter": "python",
   "pygments_lexer": "ipython3",
   "version": "3.9.18"
  }
 },
 "nbformat": 4,
 "nbformat_minor": 5
}
